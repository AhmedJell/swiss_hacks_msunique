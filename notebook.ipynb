{
 "cells": [
  {
   "cell_type": "code",
   "execution_count": 18,
   "metadata": {},
   "outputs": [],
   "source": [
    "import os\n",
    "from pathlib import Path\n",
    "from shutil import copyfile\n",
    "\n",
    "ROOT = Path(\"msunique/Data\")\n",
    "DATA_DIR = Path(\"data\")"
   ]
  },
  {
   "cell_type": "code",
   "execution_count": 21,
   "metadata": {},
   "outputs": [
    {
     "name": "stdout",
     "output_type": "stream",
     "text": [
      "Copying msunique/Data/Raiffeisen/2022.json to data/Raiffeisen_2022.json\n",
      "Copying msunique/Data/Raiffeisen/2023.json to data/Raiffeisen_2023.json\n",
      "Copying msunique/Data/Raiffeisen/2021.json to data/Raiffeisen_2021.json\n",
      "Copying msunique/Data/ABB/2022.json to data/ABB_2022.json\n",
      "Copying msunique/Data/ABB/2023.json to data/ABB_2023.json\n",
      "Copying msunique/Data/ABB/2021.json to data/ABB_2021.json\n",
      "Copying msunique/Data/Siemens/2022.json to data/Siemens_2022.json\n",
      "Copying msunique/Data/Siemens/2023.json to data/Siemens_2023.json\n",
      "Copying msunique/Data/Siemens/2021.json to data/Siemens_2021.json\n",
      "Copying msunique/Data/IBM/2022.json to data/IBM_2022.json\n",
      "Copying msunique/Data/IBM/2023.json to data/IBM_2023.json\n",
      "Copying msunique/Data/IBM/2021.json to data/IBM_2021.json\n",
      "Copying msunique/Data/PostFinance/2022.json to data/PostFinance_2022.json\n",
      "Copying msunique/Data/PostFinance/2023.json to data/PostFinance_2023.json\n",
      "Copying msunique/Data/PostFinance/2021.json to data/PostFinance_2021.json\n"
     ]
    }
   ],
   "source": [
    "for dir, _, files in os.walk(ROOT):\n",
    "    dir = Path(dir)\n",
    "    for file in files:\n",
    "        if file.endswith('.json'):\n",
    "            path = dir / file\n",
    "            dest = DATA_DIR / f\"{dir.stem}_{file}\"\n",
    "            print(f\"Copying {path} to {dest}\")\n",
    "            copyfile(path, dest)\n"
   ]
  }
 ],
 "metadata": {
  "kernelspec": {
   "display_name": "src-AClT9ny1-py3.12",
   "language": "python",
   "name": "python3"
  },
  "language_info": {
   "codemirror_mode": {
    "name": "ipython",
    "version": 3
   },
   "file_extension": ".py",
   "mimetype": "text/x-python",
   "name": "python",
   "nbconvert_exporter": "python",
   "pygments_lexer": "ipython3",
   "version": "3.12.2"
  }
 },
 "nbformat": 4,
 "nbformat_minor": 2
}
