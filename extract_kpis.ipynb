{
 "cells": [
  {
   "cell_type": "code",
   "execution_count": null,
   "metadata": {},
   "outputs": [],
   "source": [
    "import os\n",
    "\n",
    "import pandas as pd\n",
    "from dotenv import load_dotenv\n",
    "from tqdm import tqdm\n",
    "\n",
    "load_dotenv()\n",
    "\n",
    "from src.ingestion.report import Report\n",
    "from src.llm_agents.kpi_simple_extraction.agent import KPISimpleExtractionAgent\n",
    "\n",
    "from warnings import  simplefilter\n",
    "\n",
    "simplefilter(action='ignore', category=Warning)\n",
    "\n",
    "%load_ext autoreload\n",
    "%autoreload 2"
   ]
  },
  {
   "cell_type": "code",
   "execution_count": null,
   "metadata": {},
   "outputs": [],
   "source": [
    "reports = []\n",
    "list_paths = os.listdir(\"data\")\n",
    "for path in tqdm(list_paths):\n",
    "    if path.endswith('.json'):\n",
    "        report = Report.from_json(\"data/\"+path)\n",
    "        report.get_kpis()"
   ]
  },
  {
   "cell_type": "code",
   "execution_count": null,
   "metadata": {},
   "outputs": [],
   "source": [
    "df = pd.DataFrame(reports)\n",
    "df = df.explode(\"questions\").reset_index(drop=True)\n",
    "df = df.assign(**df[\"questions\"].apply(pd.Series))\n",
    "df = df.assign(**df[\"response\"].apply(pd.Series))\n",
    "df = df.assign(**df[\"KPI\"].apply(pd.Series))\n",
    "df = df.explode(\"values\")\n",
    "df = df.query(\"not values.isna()\").reset_index(drop=True)\n",
    "df = df.assign(**df[\"values\"].apply(pd.Series))\n",
    "df.found = df.found.apply(lambda x: 1 if x == \"True\" or x else 0)\n",
    "df.drop(columns=[\"questions\", \"response\", \"KPI\", \"values\"], inplace=True)"
   ]
  },
  {
   "cell_type": "code",
   "execution_count": null,
   "metadata": {},
   "outputs": [],
   "source": [
    "df_sorted = df.sort_values(by=[\"file\", \"source\"]).reset_index(drop=True)"
   ]
  },
  {
   "cell_type": "code",
   "execution_count": null,
   "metadata": {},
   "outputs": [],
   "source": [
    "df_sorted.to_json(\"data/kpi_extraction.json\", orient=\"records\", lines=True)"
   ]
  },
  {
   "cell_type": "code",
   "execution_count": null,
   "metadata": {},
   "outputs": [],
   "source": [
    "df_sorted"
   ]
  },
  {
   "cell_type": "code",
   "execution_count": null,
   "metadata": {},
   "outputs": [],
   "source": []
  }
 ],
 "metadata": {
  "kernelspec": {
   "display_name": "src-AClT9ny1-py3.12",
   "language": "python",
   "name": "python3"
  },
  "language_info": {
   "codemirror_mode": {
    "name": "ipython",
    "version": 3
   },
   "file_extension": ".py",
   "mimetype": "text/x-python",
   "name": "python",
   "nbconvert_exporter": "python",
   "pygments_lexer": "ipython3",
   "version": "3.12.2"
  }
 },
 "nbformat": 4,
 "nbformat_minor": 2
}
