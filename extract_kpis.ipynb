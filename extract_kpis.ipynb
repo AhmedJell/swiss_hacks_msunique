{
 "cells": [
  {
   "cell_type": "code",
   "execution_count": 42,
   "metadata": {},
   "outputs": [
    {
     "name": "stdout",
     "output_type": "stream",
     "text": [
      "The autoreload extension is already loaded. To reload it, use:\n",
      "  %reload_ext autoreload\n"
     ]
    }
   ],
   "source": [
    "import os\n",
    "\n",
    "import pandas as pd\n",
    "from dotenv import load_dotenv\n",
    "from tqdm import tqdm\n",
    "\n",
    "load_dotenv()\n",
    "\n",
    "from src.ingestion.report import Report\n",
    "from src.llm_agents.kpi_simple_extraction.agent import KPISimpleExtractionAgent\n",
    "\n",
    "from warnings import  simplefilter\n",
    "\n",
    "simplefilter(action='ignore', category=Warning)\n",
    "\n",
    "%load_ext autoreload\n",
    "%autoreload 2"
   ]
  },
  {
   "cell_type": "code",
   "execution_count": 44,
   "metadata": {},
   "outputs": [
    {
     "name": "stderr",
     "output_type": "stream",
     "text": [
      "  0%|          | 0/17 [00:00<?, ?it/s]"
     ]
    },
    {
     "name": "stdout",
     "output_type": "stream",
     "text": [
      "Parsing texts for  IBM   2023  ...\n",
      "Loading embeddings for  IBM   2023  ...\n"
     ]
    },
    {
     "name": "stderr",
     "output_type": "stream",
     "text": [
      "Warning: model not found. Using cl100k_base encoding.\n",
      "Warning: model not found. Using cl100k_base encoding.\n",
      "Warning: model not found. Using cl100k_base encoding.\n",
      "Warning: model not found. Using cl100k_base encoding.\n",
      "Warning: model not found. Using cl100k_base encoding.\n",
      "Warning: model not found. Using cl100k_base encoding.\n",
      "Warning: model not found. Using cl100k_base encoding.\n",
      "Warning: model not found. Using cl100k_base encoding.\n",
      "Warning: model not found. Using cl100k_base encoding.\n",
      "Warning: model not found. Using cl100k_base encoding.\n",
      "Warning: model not found. Using cl100k_base encoding.\n",
      "Warning: model not found. Using cl100k_base encoding.\n",
      "Warning: model not found. Using cl100k_base encoding.\n",
      "Warning: model not found. Using cl100k_base encoding.\n",
      "100%|██████████| 14/14 [00:48<00:00,  3.47s/it]\n",
      "  6%|▌         | 1/17 [00:48<13:01, 48.84s/it]"
     ]
    },
    {
     "name": "stdout",
     "output_type": "stream",
     "text": [
      "Parsing texts for  Siemens   2022  ...\n",
      "Loading embeddings for  Siemens   2022  ...\n"
     ]
    },
    {
     "name": "stderr",
     "output_type": "stream",
     "text": [
      "Warning: model not found. Using cl100k_base encoding.\n",
      "Warning: model not found. Using cl100k_base encoding.\n",
      "Warning: model not found. Using cl100k_base encoding.\n",
      "Warning: model not found. Using cl100k_base encoding.\n",
      "Warning: model not found. Using cl100k_base encoding.\n",
      "Warning: model not found. Using cl100k_base encoding.\n",
      "Warning: model not found. Using cl100k_base encoding.\n",
      "Warning: model not found. Using cl100k_base encoding.\n",
      "Warning: model not found. Using cl100k_base encoding.\n",
      "Warning: model not found. Using cl100k_base encoding.\n",
      "Warning: model not found. Using cl100k_base encoding.\n",
      "Warning: model not found. Using cl100k_base encoding.\n",
      "Warning: model not found. Using cl100k_base encoding.\n",
      "Warning: model not found. Using cl100k_base encoding.\n",
      "100%|██████████| 14/14 [01:12<00:00,  5.16s/it]\n",
      " 12%|█▏        | 2/17 [02:01<15:43, 62.90s/it]"
     ]
    },
    {
     "name": "stdout",
     "output_type": "stream",
     "text": [
      "Parsing texts for  ABB   2022  ...\n",
      "Loading embeddings for  ABB   2022  ...\n"
     ]
    },
    {
     "name": "stderr",
     "output_type": "stream",
     "text": [
      "Warning: model not found. Using cl100k_base encoding.\n",
      "Warning: model not found. Using cl100k_base encoding.\n",
      "Warning: model not found. Using cl100k_base encoding.\n",
      "Warning: model not found. Using cl100k_base encoding.\n",
      "Warning: model not found. Using cl100k_base encoding.\n",
      "Warning: model not found. Using cl100k_base encoding.\n",
      "Warning: model not found. Using cl100k_base encoding.\n",
      "Warning: model not found. Using cl100k_base encoding.\n",
      "Warning: model not found. Using cl100k_base encoding.\n",
      "Warning: model not found. Using cl100k_base encoding.\n",
      "Warning: model not found. Using cl100k_base encoding.\n",
      "Warning: model not found. Using cl100k_base encoding.\n",
      "Warning: model not found. Using cl100k_base encoding.\n",
      "Warning: model not found. Using cl100k_base encoding.\n",
      "100%|██████████| 14/14 [00:47<00:00,  3.42s/it]\n",
      " 24%|██▎       | 4/17 [02:49<07:22, 34.05s/it]"
     ]
    },
    {
     "name": "stdout",
     "output_type": "stream",
     "text": [
      "Parsing texts for  ABB   2023  ...\n",
      "Loading embeddings for  ABB   2023  ...\n",
      "Parsing texts for  Siemens   2023  ...\n",
      "Loading embeddings for  Siemens   2023  ...\n"
     ]
    },
    {
     "name": "stderr",
     "output_type": "stream",
     "text": [
      "Warning: model not found. Using cl100k_base encoding.\n",
      "Warning: model not found. Using cl100k_base encoding.\n",
      "Warning: model not found. Using cl100k_base encoding.\n",
      "Warning: model not found. Using cl100k_base encoding.\n",
      "Warning: model not found. Using cl100k_base encoding.\n",
      "Warning: model not found. Using cl100k_base encoding.\n",
      "Warning: model not found. Using cl100k_base encoding.\n",
      "Warning: model not found. Using cl100k_base encoding.\n",
      "Warning: model not found. Using cl100k_base encoding.\n",
      "Warning: model not found. Using cl100k_base encoding.\n",
      "Warning: model not found. Using cl100k_base encoding.\n",
      "Warning: model not found. Using cl100k_base encoding.\n",
      "Warning: model not found. Using cl100k_base encoding.\n",
      "Warning: model not found. Using cl100k_base encoding.\n",
      "100%|██████████| 14/14 [01:14<00:00,  5.29s/it]\n",
      " 29%|██▉       | 5/17 [04:04<09:43, 48.66s/it]"
     ]
    },
    {
     "name": "stdout",
     "output_type": "stream",
     "text": [
      "Parsing texts for  IBM   2022  ...\n",
      "Loading embeddings for  IBM   2022  ...\n"
     ]
    },
    {
     "name": "stderr",
     "output_type": "stream",
     "text": [
      "Warning: model not found. Using cl100k_base encoding.\n",
      "Warning: model not found. Using cl100k_base encoding.\n",
      "Warning: model not found. Using cl100k_base encoding.\n",
      "Warning: model not found. Using cl100k_base encoding.\n",
      "Warning: model not found. Using cl100k_base encoding.\n",
      "Warning: model not found. Using cl100k_base encoding.\n",
      "Warning: model not found. Using cl100k_base encoding.\n",
      "Warning: model not found. Using cl100k_base encoding.\n",
      "Warning: model not found. Using cl100k_base encoding.\n",
      "Warning: model not found. Using cl100k_base encoding.\n",
      "Warning: model not found. Using cl100k_base encoding.\n",
      "Warning: model not found. Using cl100k_base encoding.\n",
      "Warning: model not found. Using cl100k_base encoding.\n",
      "Warning: model not found. Using cl100k_base encoding.\n",
      "100%|██████████| 14/14 [01:02<00:00,  4.45s/it]\n",
      " 35%|███▌      | 6/17 [05:07<09:47, 53.42s/it]"
     ]
    },
    {
     "name": "stdout",
     "output_type": "stream",
     "text": [
      "Parsing texts for  Raiffeisen   2021  ...\n",
      "Loading embeddings for  Raiffeisen   2021  ...\n"
     ]
    },
    {
     "name": "stderr",
     "output_type": "stream",
     "text": [
      "Warning: model not found. Using cl100k_base encoding.\n",
      "Warning: model not found. Using cl100k_base encoding.\n",
      "Warning: model not found. Using cl100k_base encoding.\n",
      "Warning: model not found. Using cl100k_base encoding.\n",
      "Warning: model not found. Using cl100k_base encoding.\n",
      "Warning: model not found. Using cl100k_base encoding.\n",
      "Warning: model not found. Using cl100k_base encoding.\n",
      "Warning: model not found. Using cl100k_base encoding.\n",
      "Warning: model not found. Using cl100k_base encoding.\n",
      "Warning: model not found. Using cl100k_base encoding.\n",
      "Warning: model not found. Using cl100k_base encoding.\n",
      "Warning: model not found. Using cl100k_base encoding.\n",
      "Warning: model not found. Using cl100k_base encoding.\n",
      "Warning: model not found. Using cl100k_base encoding.\n",
      "100%|██████████| 14/14 [00:45<00:00,  3.28s/it]\n",
      " 41%|████      | 7/17 [05:53<08:30, 51.09s/it]"
     ]
    },
    {
     "name": "stdout",
     "output_type": "stream",
     "text": [
      "Parsing texts for  PostFinance   2021  ...\n",
      "Loading embeddings for  PostFinance   2021  ...\n"
     ]
    },
    {
     "name": "stderr",
     "output_type": "stream",
     "text": [
      "Warning: model not found. Using cl100k_base encoding.\n",
      "Warning: model not found. Using cl100k_base encoding.\n",
      "Warning: model not found. Using cl100k_base encoding.\n",
      "Warning: model not found. Using cl100k_base encoding.\n",
      "Warning: model not found. Using cl100k_base encoding.\n",
      "Warning: model not found. Using cl100k_base encoding.\n",
      "Warning: model not found. Using cl100k_base encoding.\n",
      "Warning: model not found. Using cl100k_base encoding.\n",
      "Warning: model not found. Using cl100k_base encoding.\n",
      "Warning: model not found. Using cl100k_base encoding.\n",
      "Warning: model not found. Using cl100k_base encoding.\n",
      "Warning: model not found. Using cl100k_base encoding.\n",
      "Warning: model not found. Using cl100k_base encoding.\n",
      "Warning: model not found. Using cl100k_base encoding.\n",
      "100%|██████████| 14/14 [00:48<00:00,  3.48s/it]\n",
      " 53%|█████▎    | 9/17 [06:42<05:05, 38.21s/it]"
     ]
    },
    {
     "name": "stdout",
     "output_type": "stream",
     "text": [
      "Parsing texts for  Raiffeisen   2023  ...\n",
      "Loading embeddings for  Raiffeisen   2023  ...\n"
     ]
    },
    {
     "name": "stderr",
     "output_type": "stream",
     "text": [
      "Warning: model not found. Using cl100k_base encoding.\n",
      "Warning: model not found. Using cl100k_base encoding.\n",
      "Warning: model not found. Using cl100k_base encoding.\n",
      "Warning: model not found. Using cl100k_base encoding.\n",
      "Warning: model not found. Using cl100k_base encoding.\n",
      "Warning: model not found. Using cl100k_base encoding.\n",
      "Warning: model not found. Using cl100k_base encoding.\n",
      "Warning: model not found. Using cl100k_base encoding.\n",
      "Warning: model not found. Using cl100k_base encoding.\n",
      "Warning: model not found. Using cl100k_base encoding.\n",
      "Warning: model not found. Using cl100k_base encoding.\n",
      "Warning: model not found. Using cl100k_base encoding.\n",
      "Warning: model not found. Using cl100k_base encoding.\n",
      "Warning: model not found. Using cl100k_base encoding.\n",
      "100%|██████████| 14/14 [01:01<00:00,  4.40s/it]\n",
      " 59%|█████▉    | 10/17 [07:44<05:10, 44.30s/it]"
     ]
    },
    {
     "name": "stdout",
     "output_type": "stream",
     "text": [
      "Parsing texts for  PostFinance   2022  ...\n",
      "Loading embeddings for  PostFinance   2022  ...\n"
     ]
    },
    {
     "name": "stderr",
     "output_type": "stream",
     "text": [
      "Warning: model not found. Using cl100k_base encoding.\n",
      "Warning: model not found. Using cl100k_base encoding.\n",
      "Warning: model not found. Using cl100k_base encoding.\n",
      "Warning: model not found. Using cl100k_base encoding.\n",
      "Warning: model not found. Using cl100k_base encoding.\n",
      "Warning: model not found. Using cl100k_base encoding.\n",
      "Warning: model not found. Using cl100k_base encoding.\n",
      "Warning: model not found. Using cl100k_base encoding.\n",
      "Warning: model not found. Using cl100k_base encoding.\n",
      "Warning: model not found. Using cl100k_base encoding.\n",
      "Warning: model not found. Using cl100k_base encoding.\n",
      "Warning: model not found. Using cl100k_base encoding.\n",
      "Warning: model not found. Using cl100k_base encoding.\n",
      "Warning: model not found. Using cl100k_base encoding.\n",
      "100%|██████████| 14/14 [00:50<00:00,  3.62s/it]\n",
      " 65%|██████▍   | 11/17 [08:35<04:36, 46.07s/it]"
     ]
    },
    {
     "name": "stdout",
     "output_type": "stream",
     "text": [
      "Parsing texts for  PostFinance   2023  ...\n",
      "Loading embeddings for  PostFinance   2023  ...\n"
     ]
    },
    {
     "name": "stderr",
     "output_type": "stream",
     "text": [
      "Warning: model not found. Using cl100k_base encoding.\n",
      "Warning: model not found. Using cl100k_base encoding.\n",
      "Warning: model not found. Using cl100k_base encoding.\n",
      "Warning: model not found. Using cl100k_base encoding.\n",
      "Warning: model not found. Using cl100k_base encoding.\n",
      "Warning: model not found. Using cl100k_base encoding.\n",
      "Warning: model not found. Using cl100k_base encoding.\n",
      "Warning: model not found. Using cl100k_base encoding.\n",
      "Warning: model not found. Using cl100k_base encoding.\n",
      "Warning: model not found. Using cl100k_base encoding.\n",
      "Warning: model not found. Using cl100k_base encoding.\n",
      "Warning: model not found. Using cl100k_base encoding.\n",
      "Warning: model not found. Using cl100k_base encoding.\n",
      "Warning: model not found. Using cl100k_base encoding.\n",
      "100%|██████████| 14/14 [00:41<00:00,  3.00s/it]\n",
      " 71%|███████   | 12/17 [09:17<03:44, 44.96s/it]"
     ]
    },
    {
     "name": "stdout",
     "output_type": "stream",
     "text": [
      "Parsing texts for  Raiffeisen   2022  ...\n",
      "Loading embeddings for  Raiffeisen   2022  ...\n"
     ]
    },
    {
     "name": "stderr",
     "output_type": "stream",
     "text": [
      "Warning: model not found. Using cl100k_base encoding.\n",
      "Warning: model not found. Using cl100k_base encoding.\n",
      "Warning: model not found. Using cl100k_base encoding.\n",
      "Warning: model not found. Using cl100k_base encoding.\n",
      "Warning: model not found. Using cl100k_base encoding.\n",
      "Warning: model not found. Using cl100k_base encoding.\n",
      "Warning: model not found. Using cl100k_base encoding.\n",
      "Warning: model not found. Using cl100k_base encoding.\n",
      "Warning: model not found. Using cl100k_base encoding.\n",
      "Warning: model not found. Using cl100k_base encoding.\n",
      "Warning: model not found. Using cl100k_base encoding.\n",
      "Warning: model not found. Using cl100k_base encoding.\n",
      "Warning: model not found. Using cl100k_base encoding.\n",
      "Warning: model not found. Using cl100k_base encoding.\n",
      "100%|██████████| 14/14 [00:47<00:00,  3.39s/it]\n",
      " 76%|███████▋  | 13/17 [10:05<03:03, 45.79s/it]"
     ]
    },
    {
     "name": "stdout",
     "output_type": "stream",
     "text": [
      "Parsing texts for  IBM   2021  ...\n",
      "Loading embeddings for  IBM   2021  ...\n"
     ]
    },
    {
     "name": "stderr",
     "output_type": "stream",
     "text": [
      "Warning: model not found. Using cl100k_base encoding.\n",
      "Warning: model not found. Using cl100k_base encoding.\n",
      "Warning: model not found. Using cl100k_base encoding.\n",
      "Warning: model not found. Using cl100k_base encoding.\n",
      "Warning: model not found. Using cl100k_base encoding.\n",
      "Warning: model not found. Using cl100k_base encoding.\n",
      "Warning: model not found. Using cl100k_base encoding.\n",
      "Warning: model not found. Using cl100k_base encoding.\n",
      "Warning: model not found. Using cl100k_base encoding.\n",
      "Warning: model not found. Using cl100k_base encoding.\n",
      "Warning: model not found. Using cl100k_base encoding.\n",
      "Warning: model not found. Using cl100k_base encoding.\n",
      "Warning: model not found. Using cl100k_base encoding.\n",
      "Warning: model not found. Using cl100k_base encoding.\n",
      "100%|██████████| 14/14 [01:04<00:00,  4.59s/it]\n",
      " 82%|████████▏ | 14/17 [11:09<02:33, 51.21s/it]"
     ]
    },
    {
     "name": "stdout",
     "output_type": "stream",
     "text": [
      "Parsing texts for  Siemens   2021  ...\n",
      "Loading embeddings for  Siemens   2021  ...\n"
     ]
    },
    {
     "name": "stderr",
     "output_type": "stream",
     "text": [
      "Warning: model not found. Using cl100k_base encoding.\n",
      "Warning: model not found. Using cl100k_base encoding.\n",
      "Warning: model not found. Using cl100k_base encoding.\n",
      "Warning: model not found. Using cl100k_base encoding.\n",
      "Warning: model not found. Using cl100k_base encoding.\n",
      "Warning: model not found. Using cl100k_base encoding.\n",
      "Warning: model not found. Using cl100k_base encoding.\n",
      "Warning: model not found. Using cl100k_base encoding.\n",
      "Warning: model not found. Using cl100k_base encoding.\n",
      "Warning: model not found. Using cl100k_base encoding.\n",
      "Warning: model not found. Using cl100k_base encoding.\n",
      "Warning: model not found. Using cl100k_base encoding.\n",
      "Warning: model not found. Using cl100k_base encoding.\n",
      "Warning: model not found. Using cl100k_base encoding.\n",
      "100%|██████████| 14/14 [01:06<00:00,  4.73s/it]\n",
      " 88%|████████▊ | 15/17 [12:16<01:51, 55.71s/it]"
     ]
    },
    {
     "name": "stdout",
     "output_type": "stream",
     "text": [
      "Parsing texts for  ABB   2021  ...\n",
      "Loading embeddings for  ABB   2021  ...\n"
     ]
    },
    {
     "name": "stderr",
     "output_type": "stream",
     "text": [
      "Warning: model not found. Using cl100k_base encoding.\n",
      "Warning: model not found. Using cl100k_base encoding.\n",
      "Warning: model not found. Using cl100k_base encoding.\n",
      "Warning: model not found. Using cl100k_base encoding.\n",
      "Warning: model not found. Using cl100k_base encoding.\n",
      "Warning: model not found. Using cl100k_base encoding.\n",
      "Warning: model not found. Using cl100k_base encoding.\n",
      "Warning: model not found. Using cl100k_base encoding.\n",
      "Warning: model not found. Using cl100k_base encoding.\n",
      "Warning: model not found. Using cl100k_base encoding.\n",
      "Warning: model not found. Using cl100k_base encoding.\n",
      "Warning: model not found. Using cl100k_base encoding.\n",
      "Warning: model not found. Using cl100k_base encoding.\n",
      "Warning: model not found. Using cl100k_base encoding.\n",
      "100%|██████████| 14/14 [00:52<00:00,  3.73s/it]\n",
      "100%|██████████| 17/17 [13:08<00:00, 46.41s/it]\n"
     ]
    }
   ],
   "source": [
    "reports = []\n",
    "list_paths = os.listdir(\"data\")\n",
    "for path in tqdm(list_paths):\n",
    "    if path.endswith('.json'):\n",
    "        report = Report.from_json(\"data/\"+path)\n",
    "        report.get_kpis()"
   ]
  },
  {
   "cell_type": "code",
   "execution_count": 27,
   "metadata": {},
   "outputs": [],
   "source": [
    "df = pd.DataFrame(reports)\n",
    "df = df.explode(\"questions\").reset_index(drop=True)\n",
    "df = df.assign(**df[\"questions\"].apply(pd.Series))\n",
    "df = df.assign(**df[\"response\"].apply(pd.Series))\n",
    "df = df.assign(**df[\"KPI\"].apply(pd.Series))\n",
    "df = df.explode(\"values\")\n",
    "df = df.query(\"not values.isna()\").reset_index(drop=True)\n",
    "df = df.assign(**df[\"values\"].apply(pd.Series))\n",
    "df.found = df.found.apply(lambda x: 1 if x == \"True\" or x else 0)\n",
    "df.drop(columns=[\"questions\", \"response\", \"KPI\", \"values\"], inplace=True)"
   ]
  },
  {
   "cell_type": "code",
   "execution_count": 34,
   "metadata": {},
   "outputs": [],
   "source": [
    "df_sorted = df.sort_values(by=[\"file\", \"source\"]).reset_index(drop=True)"
   ]
  },
  {
   "cell_type": "code",
   "execution_count": 36,
   "metadata": {},
   "outputs": [],
   "source": [
    "df_sorted.to_json(\"data/kpi_extraction.json\", orient=\"records\", lines=True)"
   ]
  },
  {
   "cell_type": "code",
   "execution_count": 37,
   "metadata": {},
   "outputs": [
    {
     "data": {
      "text/html": [
       "<div>\n",
       "<style scoped>\n",
       "    .dataframe tbody tr th:only-of-type {\n",
       "        vertical-align: middle;\n",
       "    }\n",
       "\n",
       "    .dataframe tbody tr th {\n",
       "        vertical-align: top;\n",
       "    }\n",
       "\n",
       "    .dataframe thead th {\n",
       "        text-align: right;\n",
       "    }\n",
       "</style>\n",
       "<table border=\"1\" class=\"dataframe\">\n",
       "  <thead>\n",
       "    <tr style=\"text-align: right;\">\n",
       "      <th></th>\n",
       "      <th>file</th>\n",
       "      <th>question</th>\n",
       "      <th>acronym</th>\n",
       "      <th>full_name</th>\n",
       "      <th>description</th>\n",
       "      <th>found</th>\n",
       "      <th>formula</th>\n",
       "      <th>value</th>\n",
       "      <th>source</th>\n",
       "    </tr>\n",
       "  </thead>\n",
       "  <tbody>\n",
       "    <tr>\n",
       "      <th>0</th>\n",
       "      <td>ABB_2021.json</td>\n",
       "      <td>What are the company's cash flow from operations?</td>\n",
       "      <td>CFO</td>\n",
       "      <td>Cash Flow from Operations</td>\n",
       "      <td>Cash flow from operations represents the amoun...</td>\n",
       "      <td>1</td>\n",
       "      <td>NaN</td>\n",
       "      <td>3,338 million USD</td>\n",
       "      <td>48</td>\n",
       "    </tr>\n",
       "    <tr>\n",
       "      <th>1</th>\n",
       "      <td>ABB_2021.json</td>\n",
       "      <td>What is the company's total revenue?</td>\n",
       "      <td>Total Revenue</td>\n",
       "      <td>Total Revenue</td>\n",
       "      <td>The total amount of income generated by the co...</td>\n",
       "      <td>1</td>\n",
       "      <td>NaN</td>\n",
       "      <td>28,945</td>\n",
       "      <td>139</td>\n",
       "    </tr>\n",
       "    <tr>\n",
       "      <th>2</th>\n",
       "      <td>ABB_2021.json</td>\n",
       "      <td>What is the company's gross margin (percentage...</td>\n",
       "      <td>Gross Margin</td>\n",
       "      <td>Gross Margin Percentage</td>\n",
       "      <td>Gross margin is a company's total sales revenu...</td>\n",
       "      <td>1</td>\n",
       "      <td>NaN</td>\n",
       "      <td>32.7%</td>\n",
       "      <td>140</td>\n",
       "    </tr>\n",
       "    <tr>\n",
       "      <th>3</th>\n",
       "      <td>ABB_2021.json</td>\n",
       "      <td>What are the company's current assets?</td>\n",
       "      <td>Current Assets</td>\n",
       "      <td>Current Assets</td>\n",
       "      <td>Current assets are all the assets of a company...</td>\n",
       "      <td>1</td>\n",
       "      <td>NaN</td>\n",
       "      <td>18,695</td>\n",
       "      <td>155</td>\n",
       "    </tr>\n",
       "    <tr>\n",
       "      <th>4</th>\n",
       "      <td>ABB_2021.json</td>\n",
       "      <td>What are the company's current liabilities?</td>\n",
       "      <td>Current Liabilities</td>\n",
       "      <td>Current Liabilities</td>\n",
       "      <td>The company's obligations that are due within ...</td>\n",
       "      <td>1</td>\n",
       "      <td>NaN</td>\n",
       "      <td>15,568</td>\n",
       "      <td>156</td>\n",
       "    </tr>\n",
       "    <tr>\n",
       "      <th>...</th>\n",
       "      <td>...</td>\n",
       "      <td>...</td>\n",
       "      <td>...</td>\n",
       "      <td>...</td>\n",
       "      <td>...</td>\n",
       "      <td>...</td>\n",
       "      <td>...</td>\n",
       "      <td>...</td>\n",
       "      <td>...</td>\n",
       "    </tr>\n",
       "    <tr>\n",
       "      <th>493</th>\n",
       "      <td>Siemens_2023.json</td>\n",
       "      <td>What is the company's gross profit?</td>\n",
       "      <td>Gross Profit</td>\n",
       "      <td>Gross Profit</td>\n",
       "      <td>Gross profit is the difference between revenue...</td>\n",
       "      <td>1</td>\n",
       "      <td>NaN</td>\n",
       "      <td>29,653 million €</td>\n",
       "      <td>151</td>\n",
       "    </tr>\n",
       "    <tr>\n",
       "      <th>494</th>\n",
       "      <td>Siemens_2023.json</td>\n",
       "      <td>What is the company's net income?</td>\n",
       "      <td>Net Income</td>\n",
       "      <td>Net Income</td>\n",
       "      <td>Net income is the total profit of a company af...</td>\n",
       "      <td>1</td>\n",
       "      <td>NaN</td>\n",
       "      <td>8,529</td>\n",
       "      <td>151</td>\n",
       "    </tr>\n",
       "    <tr>\n",
       "      <th>495</th>\n",
       "      <td>Siemens_2023.json</td>\n",
       "      <td>What are the company's cash flow from operations?</td>\n",
       "      <td>CFO</td>\n",
       "      <td>Cash Flow from Operations</td>\n",
       "      <td>Cash flow from operations represents the amoun...</td>\n",
       "      <td>1</td>\n",
       "      <td>NaN</td>\n",
       "      <td>12,281 million €</td>\n",
       "      <td>151</td>\n",
       "    </tr>\n",
       "    <tr>\n",
       "      <th>496</th>\n",
       "      <td>Siemens_2023.json</td>\n",
       "      <td>What is the company's total revenue?</td>\n",
       "      <td>TR</td>\n",
       "      <td>Total Revenue</td>\n",
       "      <td>Total revenue represents the total amount of i...</td>\n",
       "      <td>1</td>\n",
       "      <td>NaN</td>\n",
       "      <td>77,769 million €</td>\n",
       "      <td>155</td>\n",
       "    </tr>\n",
       "    <tr>\n",
       "      <th>497</th>\n",
       "      <td>Siemens_2023.json</td>\n",
       "      <td>What is the company's total revenue?</td>\n",
       "      <td>TR</td>\n",
       "      <td>Total Revenue</td>\n",
       "      <td>Total revenue represents the total amount of i...</td>\n",
       "      <td>1</td>\n",
       "      <td>NaN</td>\n",
       "      <td>77,769 million €</td>\n",
       "      <td>186</td>\n",
       "    </tr>\n",
       "  </tbody>\n",
       "</table>\n",
       "<p>498 rows × 9 columns</p>\n",
       "</div>"
      ],
      "text/plain": [
       "                  file                                           question  \\\n",
       "0        ABB_2021.json  What are the company's cash flow from operations?   \n",
       "1        ABB_2021.json               What is the company's total revenue?   \n",
       "2        ABB_2021.json  What is the company's gross margin (percentage...   \n",
       "3        ABB_2021.json             What are the company's current assets?   \n",
       "4        ABB_2021.json        What are the company's current liabilities?   \n",
       "..                 ...                                                ...   \n",
       "493  Siemens_2023.json                What is the company's gross profit?   \n",
       "494  Siemens_2023.json                  What is the company's net income?   \n",
       "495  Siemens_2023.json  What are the company's cash flow from operations?   \n",
       "496  Siemens_2023.json               What is the company's total revenue?   \n",
       "497  Siemens_2023.json               What is the company's total revenue?   \n",
       "\n",
       "                 acronym                  full_name  \\\n",
       "0                    CFO  Cash Flow from Operations   \n",
       "1          Total Revenue              Total Revenue   \n",
       "2           Gross Margin    Gross Margin Percentage   \n",
       "3         Current Assets             Current Assets   \n",
       "4    Current Liabilities        Current Liabilities   \n",
       "..                   ...                        ...   \n",
       "493         Gross Profit               Gross Profit   \n",
       "494           Net Income                 Net Income   \n",
       "495                  CFO  Cash Flow from Operations   \n",
       "496                   TR              Total Revenue   \n",
       "497                   TR              Total Revenue   \n",
       "\n",
       "                                           description  found formula  \\\n",
       "0    Cash flow from operations represents the amoun...      1     NaN   \n",
       "1    The total amount of income generated by the co...      1     NaN   \n",
       "2    Gross margin is a company's total sales revenu...      1     NaN   \n",
       "3    Current assets are all the assets of a company...      1     NaN   \n",
       "4    The company's obligations that are due within ...      1     NaN   \n",
       "..                                                 ...    ...     ...   \n",
       "493  Gross profit is the difference between revenue...      1     NaN   \n",
       "494  Net income is the total profit of a company af...      1     NaN   \n",
       "495  Cash flow from operations represents the amoun...      1     NaN   \n",
       "496  Total revenue represents the total amount of i...      1     NaN   \n",
       "497  Total revenue represents the total amount of i...      1     NaN   \n",
       "\n",
       "                 value  source  \n",
       "0    3,338 million USD      48  \n",
       "1               28,945     139  \n",
       "2                32.7%     140  \n",
       "3               18,695     155  \n",
       "4               15,568     156  \n",
       "..                 ...     ...  \n",
       "493   29,653 million €     151  \n",
       "494              8,529     151  \n",
       "495   12,281 million €     151  \n",
       "496   77,769 million €     155  \n",
       "497   77,769 million €     186  \n",
       "\n",
       "[498 rows x 9 columns]"
      ]
     },
     "execution_count": 37,
     "metadata": {},
     "output_type": "execute_result"
    }
   ],
   "source": [
    "df_sorted"
   ]
  },
  {
   "cell_type": "code",
   "execution_count": null,
   "metadata": {},
   "outputs": [],
   "source": []
  }
 ],
 "metadata": {
  "kernelspec": {
   "display_name": "src-AClT9ny1-py3.12",
   "language": "python",
   "name": "python3"
  },
  "language_info": {
   "codemirror_mode": {
    "name": "ipython",
    "version": 3
   },
   "file_extension": ".py",
   "mimetype": "text/x-python",
   "name": "python",
   "nbconvert_exporter": "python",
   "pygments_lexer": "ipython3",
   "version": "3.12.2"
  }
 },
 "nbformat": 4,
 "nbformat_minor": 2
}
